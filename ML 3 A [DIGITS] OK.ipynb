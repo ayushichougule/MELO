{
 "cells": [
  {
   "cell_type": "code",
   "execution_count": 1,
   "id": "8107b557-cb63-4853-a1ef-5fa93f490a19",
   "metadata": {},
   "outputs": [
    {
     "name": "stdout",
     "output_type": "stream",
     "text": [
      "Dataset shape: (1797, 8, 8)\n",
      "Number of samples: 1797\n",
      "Number of features per sample: 64\n",
      "Target labels (digits): {0, 1, 2, 3, 4, 5, 6, 7, 8, 9}\n"
     ]
    },
    {
     "data": {
      "image/png": "[encoded data removed]",
      "text/plain": [
       "<Figure size 1000x300 with 5 Axes>"
      ]
     },
     "metadata": {},
     "output_type": "display_data"
    },
    {
     "name": "stdout",
     "output_type": "stream",
     "text": [
      "Training set shape: (1347, 64)\n",
      "Test set shape: (450, 64)\n",
      "\n",
      "Linear Kernel SVM Performance:\n",
      "Accuracy: 97.78%\n",
      "              precision    recall  f1-score   support\n",
      "\n",
      "           0       0.98      1.00      0.99        43\n",
      "           1       0.97      1.00      0.99        37\n",
      "           2       0.97      1.00      0.99        38\n",
      "           3       0.96      0.96      0.96        46\n",
      "           4       1.00      1.00      1.00        55\n",
      "           5       0.97      0.97      0.97        59\n",
      "           6       0.98      0.98      0.98        45\n",
      "           7       0.98      0.98      0.98        41\n",
      "           8       1.00      0.95      0.97        38\n",
      "           9       0.98      0.96      0.97        48\n",
      "\n",
      "    accuracy                           0.98       450\n",
      "   macro avg       0.98      0.98      0.98       450\n",
      "weighted avg       0.98      0.98      0.98       450\n",
      "\n",
      "\n",
      "RBF Kernel SVM Performance:\n",
      "Accuracy: 98.44%\n",
      "              precision    recall  f1-score   support\n",
      "\n",
      "           0       1.00      1.00      1.00        43\n",
      "           1       1.00      1.00      1.00        37\n",
      "           2       0.97      1.00      0.99        38\n",
      "           3       1.00      0.96      0.98        46\n",
      "           4       1.00      1.00      1.00        55\n",
      "           5       0.97      1.00      0.98        59\n",
      "           6       0.98      1.00      0.99        45\n",
      "           7       1.00      0.98      0.99        41\n",
      "           8       0.95      0.97      0.96        38\n",
      "           9       0.98      0.94      0.96        48\n",
      "\n",
      "    accuracy                           0.98       450\n",
      "   macro avg       0.98      0.98      0.98       450\n",
      "weighted avg       0.98      0.98      0.98       450\n",
      "\n"
     ]
    }
   ],
   "source": [
    "from sklearn import datasets\n",
    "import matplotlib.pyplot as plt\n",
    "\n",
    "# Load the digits dataset \n",
    "digits = datasets.load_digits()\n",
    "\n",
    "# Inspect the dataset\n",
    "print(f\"Dataset shape: {digits.images.shape}\") \n",
    "print(f\"Number of samples: {len(digits.images)}\")\n",
    "print(f\"Number of features per sample: {digits.data.shape[1]}\")\n",
    "print(f\"Target labels (digits): {set(digits.target)}\")\n",
    "\n",
    "# Display a few images with their labels\n",
    "fig, axes = plt.subplots(1, 5, figsize=(10, 3)) \n",
    "for i, ax in enumerate(axes): \n",
    "    ax.imshow(digits.images[i], cmap='gray') \n",
    "    ax.set_title(f\"Label: {digits.target[i]}\")\n",
    "plt.show()\n",
    "\n",
    "from sklearn.model_selection import train_test_split \n",
    "from sklearn.preprocessing import StandardScaler\n",
    "\n",
    "# Flatten the images for input to the SVM model \n",
    "X = digits.data  # Shape: (1797, 64) - each sample has 64 pixel features\n",
    "y = digits.target  # Shape: (1797,) - target labels (digits 0-9)\n",
    "\n",
    "# Normalize the pixel values to a standard scale \n",
    "scaler = StandardScaler() \n",
    "X_scaled = scaler.fit_transform(X)\n",
    "\n",
    "# Split the dataset into 75% training and 25% testing \n",
    "X_train, X_test, y_train, y_test = train_test_split(X_scaled, y, test_size=0.25, random_state=42)\n",
    "\n",
    "# Check the shapes of the train and test sets \n",
    "print(f\"Training set shape: {X_train.shape}\") \n",
    "print(f\"Test set shape: {X_test.shape}\")\n",
    "\n",
    "from sklearn.svm import SVC \n",
    "from sklearn.metrics import classification_report, accuracy_score\n",
    "\n",
    "#Train the SVM model with a linear kernel\n",
    "svm_linear = SVC(kernel='linear', random_state=42) \n",
    "svm_linear.fit(X_train, y_train)\n",
    "\n",
    "#Make predictions\n",
    "y_pred_linear = svm_linear.predict(X_test)\n",
    "\n",
    "#Evaluate the model performance\n",
    "print(\"\\nLinear Kernel SVM Performance:\")\n",
    "print (f\"Accuracy: {accuracy_score(y_test, y_pred_linear) * 100:.2f}%\")\n",
    "print(classification_report(y_test,y_pred_linear))\n",
    "\n",
    "# Train the SVM model with an RBF kernel\n",
    "svm_rbf = SVC(kernel='rbf', gamma ='auto', random_state=42) \n",
    "svm_rbf.fit(X_train, y_train)\n",
    "\n",
    "# Make predictions\n",
    "y_pred_rbf = svm_rbf.predict(X_test)\n",
    "\n",
    "# Evaluate the model performance\n",
    "print(\"\\nRBF Kernel SVM Performance:\")\n",
    "print(f\"Accuracy: {accuracy_score(y_test, y_pred_rbf) *100:.2f}%\")\n",
    "print(classification_report(y_test,y_pred_rbf))"
   ]
  },
  {
   "cell_type": "code",
   "execution_count": null,
   "id": "10454b5d-b812-4424-bc1e-594295a0287a",
   "metadata": {},
   "outputs": [],
   "source": []
  }
 ],
 "metadata": {
  "kernelspec": {
   "display_name": "Python 3 (ipykernel)",
   "language": "python",
   "name": "python3"
  },
  "language_info": {
   "codemirror_mode": {
    "name": "ipython",
    "version": 3
   },
   "file_extension": ".py",
   "mimetype": "text/x-python",
   "name": "python",
   "nbconvert_exporter": "python",
   "pygments_lexer": "ipython3",
   "version": "3.11.4"
  }
 },
 "nbformat": 4,
 "nbformat_minor": 5
}
